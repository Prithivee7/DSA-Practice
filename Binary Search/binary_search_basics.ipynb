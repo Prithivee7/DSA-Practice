{
 "cells": [
  {
   "cell_type": "code",
   "execution_count": null,
   "metadata": {},
   "outputs": [],
   "source": [
    "def binary_search(arr,search_element):\n",
    "    low = 0\n",
    "    high = len(arr)-1\n",
    "    while(low <= high):\n",
    "        mid = int((high+low)/2)\n",
    "        if arr[mid] > search_element:\n",
    "            high = mid - 1\n",
    "        elif arr[mid] < search_element:\n",
    "            low = mid + 1\n",
    "        else:\n",
    "            return mid\n",
    "    return -1"
   ]
  },
  {
   "cell_type": "code",
   "execution_count": null,
   "metadata": {},
   "outputs": [],
   "source": [
    "arr = [2,3,5,6,7,12,16,19,23,27,31,37]\n",
    "search_element = 33\n",
    "position = binary_search(arr,search_element)\n",
    "print(position)"
   ]
  },
  {
   "cell_type": "code",
   "execution_count": 22,
   "metadata": {},
   "outputs": [],
   "source": [
    "def binary_search_get_left_most_element_on_repetition(arr,search_element):\n",
    "    low = 0\n",
    "    high = len(arr)-1\n",
    "    index = -1\n",
    "    while(low <= high):\n",
    "        mid = int((high+low)/2)\n",
    "        if arr[mid] > search_element:\n",
    "            high = mid - 1\n",
    "        elif arr[mid] < search_element:\n",
    "            low = mid + 1\n",
    "        else:\n",
    "            index = mid\n",
    "            high = mid - 1\n",
    "    if index == -1:\n",
    "        return -1\n",
    "    else:\n",
    "        return index"
   ]
  },
  {
   "cell_type": "code",
   "execution_count": 31,
   "metadata": {},
   "outputs": [
    {
     "name": "stdout",
     "output_type": "stream",
     "text": [
      "11\n"
     ]
    }
   ],
   "source": [
    "arr = [1,1,1,3,4,4,4,4,6,6,6,7,7,9]\n",
    "search_element = 7\n",
    "position = binary_search_get_left_most_element_on_repetition(arr, search_element)\n",
    "print(position)"
   ]
  },
  {
   "cell_type": "code",
   "execution_count": 36,
   "metadata": {},
   "outputs": [],
   "source": [
    "def binary_search_get_right_most_element_on_repetition(arr, search_element):\n",
    "    low = 0\n",
    "    high = len(arr)-1\n",
    "    index = -1\n",
    "    while(low <= high):\n",
    "        mid = int((high+low)/2)\n",
    "        if arr[mid] > search_element:\n",
    "            high = mid - 1\n",
    "        elif arr[mid] < search_element:\n",
    "            low = mid + 1\n",
    "        else:\n",
    "            index = mid\n",
    "            low = mid +1 \n",
    "    if index == -1:\n",
    "        return -1\n",
    "    else:\n",
    "        return index\n"
   ]
  },
  {
   "cell_type": "code",
   "execution_count": 40,
   "metadata": {},
   "outputs": [
    {
     "name": "stdout",
     "output_type": "stream",
     "text": [
      "7\n"
     ]
    }
   ],
   "source": [
    "arr = [1, 1, 1, 3, 4, 4, 4, 4, 6, 6, 6, 7, 7, 9]\n",
    "search_element = 4\n",
    "position = binary_search_get_right_most_element_on_repetition(\n",
    "    arr, search_element)\n",
    "print(position)"
   ]
  },
  {
   "cell_type": "code",
   "execution_count": 49,
   "metadata": {},
   "outputs": [],
   "source": [
    "def binary_search_least_element_greater_than_key(arr,search_element):\n",
    "    position = binary_search_get_right_most_element_on_repetition(\n",
    "    arr, search_element) + 1\n",
    "    if position == len(arr):\n",
    "        return -1\n",
    "    return position"
   ]
  },
  {
   "cell_type": "code",
   "execution_count": 50,
   "metadata": {},
   "outputs": [
    {
     "name": "stdout",
     "output_type": "stream",
     "text": [
      "-1\n"
     ]
    }
   ],
   "source": [
    "arr = [1, 1, 1, 3, 4, 4, 4, 4, 6, 6, 6, 7, 7, 9]\n",
    "search_element = 9\n",
    "position = binary_search_least_element_greater_than_key(arr, search_element)\n",
    "print(position)"
   ]
  }
 ],
 "metadata": {
  "kernelspec": {
   "display_name": "Python 3.9.2 64-bit",
   "language": "python",
   "name": "python3"
  },
  "language_info": {
   "codemirror_mode": {
    "name": "ipython",
    "version": 3
   },
   "file_extension": ".py",
   "mimetype": "text/x-python",
   "name": "python",
   "nbconvert_exporter": "python",
   "pygments_lexer": "ipython3",
   "version": "3.9.2"
  },
  "orig_nbformat": 4,
  "vscode": {
   "interpreter": {
    "hash": "c21ea56d46dc4445042d172b5cd760c19b1805e23c4eadd215239a0e0c33b5ac"
   }
  }
 },
 "nbformat": 4,
 "nbformat_minor": 2
}
